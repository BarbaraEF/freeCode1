{
  "nbformat": 4,
  "nbformat_minor": 0,
  "metadata": {
    "colab": {
      "provenance": [],
      "authorship_tag": "ABX9TyMRmvty/c6ct0hJgWHLHi0P",
      "include_colab_link": true
    },
    "kernelspec": {
      "name": "python3",
      "display_name": "Python 3"
    },
    "language_info": {
      "name": "python"
    }
  },
  "cells": [
    {
      "cell_type": "markdown",
      "metadata": {
        "id": "view-in-github",
        "colab_type": "text"
      },
      "source": [
        "<a href=\"https://colab.research.google.com/github/BarbaraEF/freeCode1/blob/main/freecode_proyecto.ipynb\" target=\"_parent\"><img src=\"https://colab.research.google.com/assets/colab-badge.svg\" alt=\"Open In Colab\"/></a>"
      ]
    },
    {
      "cell_type": "code",
      "execution_count": null,
      "metadata": {
        "id": "gH6IRBOMD_pZ",
        "colab": {
          "base_uri": "https://localhost:8080/"
        },
        "outputId": "59a5a3bd-4d9b-4c86-b851-4d12e7d21a8c"
      },
      "outputs": [
        {
          "output_type": "stream",
          "name": "stdout",
          "text": [
            "Ingresa un adjetivo: entretenido\n",
            "Ingresa un verbo: resolver\n",
            "Ingresa otro verbo: programar\n",
            "Ingresa un sustantivo (plural): metas\n",
            "Programar es tan entretenido! Me encanta porque puedo resolver problemas.Puedes programar para alcanzar tus metas\n"
          ]
        }
      ],
      "source": [
        "# Mad Libs\n",
        "\n",
        "adj = input(\"Ingresa un adjetivo: \")\n",
        "verb1 = input(\"Ingresa un verbo: \")\n",
        "verb2 = input(\"Ingresa otro verbo: \")\n",
        "subj1 = input(\"Ingresa un sustantivo (plural): \")\n",
        "\n",
        "madlib = f\"Programar es tan {adj}! Me encanta porque puedo {verb1} problemas.Puedes {verb2} para alcanzar tus {subj1}\"\n",
        "\n",
        "print(madlib)\n",
        "\n"
      ]
    },
    {
      "cell_type": "code",
      "source": [
        "# Adivina el numero\n",
        "import random\n",
        "\n",
        "\n",
        "def guess(x) :\n",
        "  print(\"============\")\n",
        "  print(\" Bienvenidx\")\n",
        "  print(\"============\")\n",
        "  print(\"Debes adivinar el nro generado por la computadora\")\n",
        "\n",
        "  random_num = random.randint(1, x) #entre 1 y x\n",
        "\n",
        "  prediction = 0\n",
        "\n",
        "  while prediction != random_num:\n",
        "    prediction = int (input(f\"Adivina un numero entre 1 y {x}: \"))\n",
        "\n",
        "    if prediction < random_num :\n",
        "      print(\"Numero menor al esperado. Intenta nuevamente\")\n",
        "    elif prediction > random_num :\n",
        "      print(\"Numero mayor al esperado. Intenta nuevamente\")\n",
        "  print(f\"Adivinaste el numero {random_num} correctamente\")\n",
        "\n",
        "\n",
        "guess(10)\n"
      ],
      "metadata": {
        "id": "K0BQxOBILIeq",
        "outputId": "52000ad2-8b3f-4a71-b1f5-2bcff17757ea",
        "colab": {
          "base_uri": "https://localhost:8080/"
        }
      },
      "execution_count": null,
      "outputs": [
        {
          "output_type": "stream",
          "name": "stdout",
          "text": [
            "============\n",
            " Bienvenidx\n",
            "============\n",
            "Debes adivinar el nro generado por la computadora\n",
            "Adivina un numero entre 1 y 10: 5\n",
            "Numero menor al esperado. Intenta nuevamente\n",
            "Adivina un numero entre 1 y 10: 7\n",
            "Numero mayor al esperado. Intenta nuevamente\n",
            "Adivina un numero entre 1 y 10: 6\n",
            "Adivinaste el numero 6 correctamente\n"
          ]
        }
      ]
    },
    {
      "cell_type": "code",
      "source": [],
      "metadata": {
        "id": "ZqReHiylUvV0"
      },
      "execution_count": null,
      "outputs": []
    },
    {
      "cell_type": "code",
      "source": [
        "#Guess computer number\n",
        "import random\n",
        "\n",
        "\n",
        "def guess_pc(y) :\n",
        "  print(\"============\")\n",
        "  print(\" Bienvenidx\")\n",
        "  print(\"============\")\n",
        "  print(f\"Elige un numero entre 1 y {y} para que la computadora intente adivinar\")\n",
        "\n",
        "  minLimit = 1\n",
        "  maxLimit = y\n",
        "  ans = \"\"\n",
        "  prediction1 = 0\n",
        "\n",
        "  while ans != \"c\" :\n",
        "    if minLimit != maxLimit : # [1,10]\n",
        "      prediction1 = random.randint(minLimit, maxLimit)\n",
        "    else :\n",
        "      prediction1 = minLimit\n",
        "\n",
        "    ans = input(f\"Mi prediccion es {prediction1}. Si es muy alta ingresa (A), si es menor ingresa (B). Si es correcta ingresa (C)\").lower()\n",
        "\n",
        "    if ans == \"a\":\n",
        "      maxLimit = prediction1 -1\n",
        "    elif ans == \"b\":\n",
        "      minLimit = prediction1 +1\n",
        "\n",
        "  print(f\"La computadora adivino el nro {prediction1}\")\n",
        "\n",
        "\n",
        "guess_pc(10)\n",
        "\n",
        "\n",
        "\n",
        "\n",
        "\n"
      ],
      "metadata": {
        "id": "VWOpxwizO6pT",
        "outputId": "fa09f8d1-9083-4f25-eb95-4f31737a2f58",
        "colab": {
          "base_uri": "https://localhost:8080/"
        }
      },
      "execution_count": 18,
      "outputs": [
        {
          "output_type": "stream",
          "name": "stdout",
          "text": [
            "============\n",
            " Bienvenidx\n",
            "============\n",
            "Elige un numero entre 1 y 10 para que la computadora intente adivinar\n",
            "Mi prediccion es 8. Si es muy alta ingresa (A), si es menor ingresa (B). Si es correcta ingresa (C)a\n",
            "Mi prediccion es 1. Si es muy alta ingresa (A), si es menor ingresa (B). Si es correcta ingresa (C)b\n",
            "Mi prediccion es 4. Si es muy alta ingresa (A), si es menor ingresa (B). Si es correcta ingresa (C)b\n",
            "Mi prediccion es 7. Si es muy alta ingresa (A), si es menor ingresa (B). Si es correcta ingresa (C)a\n",
            "Mi prediccion es 6. Si es muy alta ingresa (A), si es menor ingresa (B). Si es correcta ingresa (C)a\n",
            "Mi prediccion es 5. Si es muy alta ingresa (A), si es menor ingresa (B). Si es correcta ingresa (C)c\n",
            "La computadora adivino el nro 5\n"
          ]
        }
      ]
    }
  ]
}