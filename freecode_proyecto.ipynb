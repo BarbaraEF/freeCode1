{
  "nbformat": 4,
  "nbformat_minor": 0,
  "metadata": {
    "colab": {
      "provenance": [],
      "authorship_tag": "ABX9TyOOK4GIxjnSYepPkbJySRCV",
      "include_colab_link": true
    },
    "kernelspec": {
      "name": "python3",
      "display_name": "Python 3"
    },
    "language_info": {
      "name": "python"
    }
  },
  "cells": [
    {
      "cell_type": "markdown",
      "metadata": {
        "id": "view-in-github",
        "colab_type": "text"
      },
      "source": [
        "<a href=\"https://colab.research.google.com/github/BarbaraEF/freeCode1/blob/main/freecode_proyecto.ipynb\" target=\"_parent\"><img src=\"https://colab.research.google.com/assets/colab-badge.svg\" alt=\"Open In Colab\"/></a>"
      ]
    },
    {
      "cell_type": "code",
      "execution_count": 2,
      "metadata": {
        "id": "gH6IRBOMD_pZ",
        "colab": {
          "base_uri": "https://localhost:8080/"
        },
        "outputId": "59a5a3bd-4d9b-4c86-b851-4d12e7d21a8c"
      },
      "outputs": [
        {
          "output_type": "stream",
          "name": "stdout",
          "text": [
            "Ingresa un adjetivo: entretenido\n",
            "Ingresa un verbo: resolver\n",
            "Ingresa otro verbo: programar\n",
            "Ingresa un sustantivo (plural): metas\n",
            "Programar es tan entretenido! Me encanta porque puedo resolver problemas.Puedes programar para alcanzar tus metas\n"
          ]
        }
      ],
      "source": [
        "# Mad Libs\n",
        "\n",
        "adj = input(\"Ingresa un adjetivo: \")\n",
        "verb1 = input(\"Ingresa un verbo: \")\n",
        "verb2 = input(\"Ingresa otro verbo: \")\n",
        "subj1 = input(\"Ingresa un sustantivo (plural): \")\n",
        "\n",
        "madlib = f\"Programar es tan {adj}! Me encanta porque puedo {verb1} problemas.Puedes {verb2} para alcanzar tus {subj1}\"\n",
        "\n",
        "print(madlib)\n",
        "\n"
      ]
    }
  ]
}